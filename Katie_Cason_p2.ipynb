{
 "cells": [
  {
   "cell_type": "markdown",
   "metadata": {
    "colab_type": "text",
    "id": "6t55qCf3Fsxa"
   },
   "source": [
    "# Project 2: Topic Classification"
   ]
  },
  {
   "cell_type": "markdown",
   "metadata": {
    "colab_type": "text",
    "id": "j9-9G8z4Fsxd"
   },
   "source": [
    "In this project, you'll work with text data from newsgroup posts on a variety of topics. You'll train classifiers to distinguish posts by topics inferred from the text. Whereas with digit classification, where each input is relatively dense (represented as a 28x28 matrix of pixels, many of which are non-zero), here each document is relatively sparse (represented as a bag-of-words). Only a few words of the total vocabulary are active in any given document. The assumption is that a label depends only on the count of words, not their order.\n",
    "\n",
    "The `sklearn` documentation on feature extraction may be useful:\n",
    "http://scikit-learn.org/stable/modules/feature_extraction.html\n",
    "\n",
    "Each problem can be addressed succinctly with the included packages -- please don't add any more. Grading will be based on writing clean, commented code, along with a few short answers.\n",
    "\n",
    "As always, you're welcome to work on the project in groups and discuss ideas on Slack, but <b> please prepare your own write-up with your own code. </b>"
   ]
  },
  {
   "cell_type": "code",
   "execution_count": 1,
   "metadata": {
    "colab": {},
    "colab_type": "code",
    "id": "AUYW83LqFsxd"
   },
   "outputs": [],
   "source": [
    "# This tells matplotlib not to try opening a new window for each plot.\n",
    "%matplotlib inline\n",
    "\n",
    "# General libraries.\n",
    "import re\n",
    "import numpy as np\n",
    "import matplotlib.pyplot as plt\n",
    "\n",
    "# SK-learn libraries for learning.\n",
    "from sklearn.pipeline import Pipeline\n",
    "from sklearn.neighbors import KNeighborsClassifier\n",
    "from sklearn.linear_model import LogisticRegression\n",
    "from sklearn.naive_bayes import BernoulliNB\n",
    "from sklearn.naive_bayes import MultinomialNB\n",
    "\n",
    "# SK-learn libraries for evaluation.\n",
    "from sklearn.metrics import confusion_matrix\n",
    "from sklearn import metrics\n",
    "from sklearn.metrics import classification_report\n",
    "\n",
    "# SK-learn library for importing the newsgroup data.\n",
    "from sklearn.datasets import fetch_20newsgroups\n",
    "\n",
    "# SK-learn libraries for feature extraction from text.\n",
    "from sklearn.feature_extraction.text import *\n",
    "\n",
    "import nltk"
   ]
  },
  {
   "cell_type": "markdown",
   "metadata": {
    "colab_type": "text",
    "id": "_ALNjGgCFsxg"
   },
   "source": [
    "Load the data, stripping out metadata so that only textual features will be used, and restricting documents to 4 specific topics. By default, newsgroups data is split into training and test sets, but here the test set gets further split into development and test sets.  (If you remove the categories argument from the fetch function calls, you'd get documents from all 20 topics.)"
   ]
  },
  {
   "cell_type": "code",
   "execution_count": 2,
   "metadata": {
    "colab": {},
    "colab_type": "code",
    "id": "ecYpcoxaFsxh"
   },
   "outputs": [
    {
     "name": "stdout",
     "output_type": "stream",
     "text": [
      "training label shape: (2034,)\n",
      "dev label shape: (676,)\n",
      "test label shape: (677,)\n",
      "labels names: ['alt.atheism', 'comp.graphics', 'sci.space', 'talk.religion.misc']\n"
     ]
    }
   ],
   "source": [
    "categories = ['alt.atheism', 'talk.religion.misc', 'comp.graphics', 'sci.space']\n",
    "newsgroups_train = fetch_20newsgroups(subset='train',\n",
    "                                      remove=('headers', 'footers', 'quotes'),\n",
    "                                      categories=categories)\n",
    "newsgroups_test  = fetch_20newsgroups(subset='test',\n",
    "                                      remove=('headers', 'footers', 'quotes'),\n",
    "                                      categories=categories)\n",
    "\n",
    "num_test = int(len(newsgroups_test.target) / 2)\n",
    "test_data, test_labels   = newsgroups_test.data[num_test:], newsgroups_test.target[num_test:]\n",
    "dev_data, dev_labels     = newsgroups_test.data[:num_test], newsgroups_test.target[:num_test]\n",
    "train_data, train_labels = newsgroups_train.data, newsgroups_train.target\n",
    "\n",
    "print('training label shape:', train_labels.shape)\n",
    "print('dev label shape:',      dev_labels.shape)\n",
    "print('test label shape:',     test_labels.shape)\n",
    "print('labels names:',         newsgroups_train.target_names)"
   ]
  },
  {
   "cell_type": "markdown",
   "metadata": {
    "colab_type": "text",
    "id": "OHTnOke6Fsxk"
   },
   "source": [
    "### Part 1:\n",
    "\n",
    "For each of the first 5 training examples, print the text of the message along with the label."
   ]
  },
  {
   "cell_type": "code",
   "execution_count": 3,
   "metadata": {},
   "outputs": [
    {
     "name": "stdout",
     "output_type": "stream",
     "text": [
      "THIS IS THE TEXT FOR EXAMPLE  0  WITH LABEL 1 :\n",
      "\n",
      "\n",
      "Hi,\n",
      "\n",
      "I've noticed that if you only save a model (with all your mapping planes\n",
      "positioned carefully) to a .3DS file that when you reload it after restarting\n",
      "3DS, they are given a default position and orientation.  But if you save\n",
      "to a .PRJ file their positions/orientation are preserved.  Does anyone\n",
      "know why this information is not stored in the .3DS file?  Nothing is\n",
      "explicitly said in the manual about saving texture rules in the .PRJ file. \n",
      "I'd like to be able to read the texture rule information, does anyone have \n",
      "the format for the .PRJ file?\n",
      "\n",
      "Is the .CEL file format available from somewhere?\n",
      "\n",
      "Rych\n",
      "\n",
      "\n",
      "THIS IS THE TEXT FOR EXAMPLE  1  WITH LABEL 3 :\n",
      "\n",
      "\n",
      "\n",
      "\n",
      "Seems to be, barring evidence to the contrary, that Koresh was simply\n",
      "another deranged fanatic who thought it neccessary to take a whole bunch of\n",
      "folks with him, children and all, to satisfy his delusional mania. Jim\n",
      "Jones, circa 1993.\n",
      "\n",
      "\n",
      "Nope - fruitcakes like Koresh have been demonstrating such evil corruption\n",
      "for centuries.\n",
      "\n",
      "\n",
      "THIS IS THE TEXT FOR EXAMPLE  2  WITH LABEL 2 :\n",
      "\n",
      "\n",
      "\n",
      " >In article <1993Apr19.020359.26996@sq.sq.com>, msb@sq.sq.com (Mark Brader) \n",
      "\n",
      "MB>                                                             So the\n",
      "MB> 1970 figure seems unlikely to actually be anything but a perijove.\n",
      "\n",
      "JG>Sorry, _perijoves_...I'm not used to talking this language.\n",
      "\n",
      "Couldn't we just say periapsis or apoapsis?\n",
      "\n",
      " \n",
      "\n",
      "\n",
      "THIS IS THE TEXT FOR EXAMPLE  3  WITH LABEL 0 :\n",
      "\n",
      "\n",
      "I have a request for those who would like to see Charley Wingate\n",
      "respond to the \"Charley Challenges\" (and judging from my e-mail, there\n",
      "appear to be quite a few of you.)  \n",
      "\n",
      "It is clear that Mr. Wingate intends to continue to post tangential or\n",
      "unrelated articles while ingoring the Challenges themselves.  Between\n",
      "the last two re-postings of the Challenges, I noted perhaps a dozen or\n",
      "more posts by Mr. Wingate, none of which answered a single Challenge.  \n",
      "\n",
      "It seems unmistakable to me that Mr. Wingate hopes that the questions\n",
      "will just go away, and he is doing his level best to change the\n",
      "subject.  Given that this seems a rather common net.theist tactic, I\n",
      "would like to suggest that we impress upon him our desire for answers,\n",
      "in the following manner:\n",
      "\n",
      "1. Ignore any future articles by Mr. Wingate that do not address the\n",
      "Challenges, until he answers them or explictly announces that he\n",
      "refuses to do so.\n",
      "\n",
      "--or--\n",
      "\n",
      "2. If you must respond to one of his articles, include within it\n",
      "something similar to the following:\n",
      "\n",
      "    \"Please answer the questions posed to you in the Charley Challenges.\"\n",
      "\n",
      "Really, I'm not looking to humiliate anyone here, I just want some\n",
      "honest answers.  You wouldn't think that honesty would be too much to\n",
      "ask from a devout Christian, would you?  \n",
      "\n",
      "Nevermind, that was a rhetorical question.\n",
      "\n",
      "\n",
      "THIS IS THE TEXT FOR EXAMPLE  4  WITH LABEL 2 :\n",
      "\n",
      "\n",
      "AW&ST  had a brief blurb on a Manned Lunar Exploration confernce\n",
      "May 7th  at Crystal City Virginia, under the auspices of AIAA.\n",
      "\n",
      "Does anyone know more about this?  How much, to attend????\n",
      "\n",
      "Anyone want to go?\n",
      "\n",
      "\n",
      "THIS IS THE TEXT FOR EXAMPLE  5  WITH LABEL 0 :\n",
      "\n",
      "\n",
      "\n",
      "There are definitely quite a few horrible deaths as the result of both\n",
      "atheists AND theists.  I'm sure Bobby can list quite a few for the atheist\n",
      "side but fails to recognize that the theists are equally proficient at\n",
      "genocide.  Perhaps, since I'm a bit weak on history, somone here would like\n",
      "to give a list of wars caused/led by theists?  I can think of a few (Hitler\n",
      "claimed to be a Christian for example) but a more complete list would\n",
      "probably be more effective in showing Bobby just how absurd his statement\n",
      "is.\n",
      "\n",
      "\n",
      "On a side note, I notice you always sign your posts \"Peace\".  Perhaps you\n",
      "should take your own advice and leave the atheists in peace with their\n",
      "beliefs?\n",
      "\n",
      "\n",
      "Nanci\n",
      "\n",
      "\n"
     ]
    }
   ],
   "source": [
    "def P1(num_examples = 5):\n",
    "    ### STUDENT START ###\n",
    "    example = 0\n",
    "    while example <= 5:\n",
    "        text = train_data[example]\n",
    "        labels = train_labels[example]\n",
    "        print('THIS IS THE TEXT FOR EXAMPLE ', example, ' WITH LABEL', labels, ':')\n",
    "        print('\\n')\n",
    "        print(text)\n",
    "        print('\\n')\n",
    "        example += 1\n",
    "    ### STUDENT END ###\n",
    "        \n",
    "P1()"
   ]
  },
  {
   "cell_type": "markdown",
   "metadata": {
    "colab_type": "text",
    "id": "onfno6uHFsxm"
   },
   "source": [
    "### Part 2:\n",
    "\n",
    "Transform the training data into a matrix of **word** unigram feature vectors.  What is the size of the vocabulary? What is the average number of non-zero features per example?  What is the fraction of the non-zero entries in the matrix?  What are the 0th and last feature strings (in alphabetical order)?<br/>\n",
    "_Use `CountVectorization` and its `.fit_transform` method.  Use `.nnz` and `.shape` attributes, and `.get_feature_names` method._\n",
    "\n",
    "Now transform the training data into a matrix of **word** unigram feature vectors using your own vocabulary with these 4 words: [\"atheism\", \"graphics\", \"space\", \"religion\"].  Confirm the size of the vocabulary. What is the average number of non-zero features per example?<br/>\n",
    "_Use `CountVectorization(vocabulary=...)` and its `.transform` method._\n",
    "\n",
    "Now transform the training data into a matrix of **character** bigram and trigram feature vectors.  What is the size of the vocabulary?<br/>\n",
    "_Use `CountVectorization(analyzer=..., ngram_range=...)` and its `.fit_transform` method._\n",
    "\n",
    "Now transform the training data into a matrix of **word** unigram feature vectors and prune words that appear in fewer than 10 documents.  What is the size of the vocabulary?<br/>\n",
    "_Use `CountVectorization(min_df=...)` and its `.fit_transform` method._\n",
    "\n",
    "Now again transform the training data into a matrix of **word** unigram feature vectors. What is the fraction of words in the development vocabulary that is missing from the training vocabulary?<br/>\n",
    "_Hint: Build vocabularies for both train and dev and look at the size of the difference._\n",
    "\n",
    "Notes:\n",
    "* `.fit_transform` makes 2 passes through the data: first it computes the vocabulary (\"fit\"), second it converts the raw text into feature vectors using the vocabulary (\"transform\").\n",
    "* `.fit_transform` and `.transform` return sparse matrix objects.  See about them at http://docs.scipy.org/doc/scipy-0.14.0/reference/generated/scipy.sparse.csr_matrix.html.  "
   ]
  },
  {
   "cell_type": "code",
   "execution_count": 209,
   "metadata": {
    "colab": {},
    "colab_type": "code",
    "id": "LyVwk5RvFsxn"
   },
   "outputs": [
    {
     "name": "stdout",
     "output_type": "stream",
     "text": [
      "the size of the vocabulary is:  26879\n",
      "the average number of non-zero features per example is:  96.706 %\n",
      "the fraction of non-zero entries in the matrix:  0.0035978272269590263\n",
      "the 0th feature:  00  & the last feature:  zyxel\n",
      "the average number of non-zero features per example with the given vocabulary:  0.268\n",
      "the size of the vocabulary of the character bigram and trigram feature vectors:  35478\n",
      "the size of the vocabulary of word unigram feature vectors that appear in fewer than 10 documents:  3064\n",
      "the difference between train_data vocab and dev_data vocab:  10633\n"
     ]
    }
   ],
   "source": [
    "def P2():\n",
    "    ### STUDENT START ###\n",
    "    \n",
    "    #PART 1\n",
    "    vect1 = CountVectorizer()\n",
    "    vect1_fit = vect1.fit_transform(train_data)\n",
    "    vect1_feature_names = vect1.get_feature_names()\n",
    "    #what is the size of the vocabulary?\n",
    "    vocab_size = len(vect1_feature_names)\n",
    "    print('the size of the vocabulary is: ', vocab_size)\n",
    "    # What is the average number of non-zero features per example? \n",
    "    avg_num_non_zeros = vect1_fit.nnz / float(len(train_data))\n",
    "    print('the average number of non-zero features per example is: ', np.round(avg_num_non_zeros, 3), '%')\n",
    "    #What is the fraction of the non-zero entries in the matrix? \n",
    "    non_zeros = vect1_fit.nnz / (vect1_fit.shape[0] * vect1_fit.shape[1])\n",
    "    print('the fraction of non-zero entries in the matrix: ', non_zeros)\n",
    "    #What are the 0th and last feature strings (in alphabetical order)?\n",
    "    zeroth = vect1_feature_names[0]\n",
    "    last = vect1_feature_names[vocab_size-1]\n",
    "    print('the 0th feature: ', zeroth, ' & the last feature: ', last)\n",
    "    \n",
    "    #PART 2\n",
    "    words =  [\"atheism\", \"graphics\", \"space\", \"religion\"]\n",
    "    vect_words = CountVectorizer(vocabulary = words)\n",
    "    vect_words_transformed = vect_words.transform(train_data)\n",
    "    # Confirm the size of the vocabulary. What is the average number of non-zero features per example?\n",
    "    avg_num_non_zeros_words = vect_words_transformed.nnz / float(len(train_data))\n",
    "    print('the average number of non-zero features per example with the given vocabulary: ', np.round(avg_num_non_zeros_words, 3))\n",
    "\n",
    "    #PART 3\n",
    "    vect_char = CountVectorizer(ngram_range = (2,3), analyzer = 'char')\n",
    "    vect_char_fit = vect_char.fit_transform(train_data)\n",
    "    print('the size of the vocabulary of the character bigram and trigram feature vectors: ', len(vect_char.get_feature_names()))\n",
    "    \n",
    "    #PART 4\n",
    "    vect4 = CountVectorizer(min_df=10)\n",
    "    vect4_fit = vect4.fit_transform(train_data)\n",
    "    print('the size of the vocabulary of word unigram feature vectors that appear in fewer than 10 documents: ', len(vect4.get_feature_names()))\n",
    "    \n",
    "    #PART 5\n",
    "    vect5 = CountVectorizer()\n",
    "    vect5_fit = vect5.fit_transform(train_data)\n",
    "    vect5_vocab = len(vect5.get_feature_names())\n",
    "    \n",
    "    vect6 = CountVectorizer()\n",
    "    vect6_fit = vect6.fit_transform(dev_data)\n",
    "    vect6_vocab = len(vect6.get_feature_names())\n",
    "    \n",
    "    print('the difference between train_data vocab and dev_data vocab: ', vect5_vocab - vect6_vocab)\n",
    "    \n",
    "    ### STUDENT END ###\n",
    "\n",
    "P2()"
   ]
  },
  {
   "cell_type": "markdown",
   "metadata": {
    "colab_type": "text",
    "id": "ydjkRh6LFsxp"
   },
   "source": [
    "### Part 3:\n",
    "\n",
    "Transform the training and development data to matrices of word unigram feature vectors.\n",
    "\n",
    "1. Produce several k-Nearest Neigbors models by varying k, including one with k set to optimize f1 score.  For each model, show the k value and f1 score.\n",
    "1. Produce several Naive Bayes models by varying smoothing (alpha), including one with alpha set approximately to optimize f1 score.  For each model, show the alpha value and f1 score.\n",
    "1. Produce several Logistic Regression models by varying L2 regularization strength (C), including one with C set approximately to optimize f1 score.  For each model, show the C value, f1 score, and sum of squared weights for each topic.\n",
    "\n",
    "* Why doesn't k-Nearest Neighbors work well for this problem?\n",
    "* Why doesn't Logistic Regression work as well as Naive Bayes does?\n",
    "* What is the relationship between logistic regression's sum of squared weights vs. C value?\n",
    "\n",
    "Notes:\n",
    "* Train on the transformed training data.\n",
    "* Evaluate on the transformed development data.\n",
    "* You can use `CountVectorizer` and its `.fit_transform` and `.transform` methods to transform data.\n",
    "* You can use `KNeighborsClassifier(...)` to produce a k-Nearest Neighbors model.\n",
    "* You can use `MultinomialNB(...)` to produce a Naive Bayes model.\n",
    "* You can use `LogisticRegression(C=..., solver=\"liblinear\", multi_class=\"auto\")` to produce a Logistic Regression model.\n",
    "* You can use `LogisticRegression`'s `.coef_` method to get weights for each topic.\n",
    "* You can use `metrics.f1_score(..., average=\"weighted\")` to compute f1 score."
   ]
  },
  {
   "cell_type": "code",
   "execution_count": 5,
   "metadata": {},
   "outputs": [],
   "source": [
    "#step 1: transform data into word unigram feature vectors\n",
    "def transform(data1, data2):\n",
    "        vect = CountVectorizer()\n",
    "        vect_fit = vect.fit_transform(data1)\n",
    "        vect_trans = vect.transform(data2)\n",
    "        return [vect_fit, vect_trans]\n",
    "\n",
    "train_transform = transform(train_data, dev_data)[0]\n",
    "dev_transform = transform(train_data, dev_data)[1]"
   ]
  },
  {
   "cell_type": "code",
   "execution_count": 6,
   "metadata": {},
   "outputs": [],
   "source": [
    "#step 2: Produce several k-Nearest Neigbors models by varying k, \n",
    "# including one with k set to optimize f1 score. \n",
    "# For each model, show the k value and f1 score.\n",
    "\n",
    "def knn(data1, labels1, data2, labels2):\n",
    "    k_values = [5, 10, 20, 98, 102, 103]\n",
    "    for k in k_values:\n",
    "        model = KNeighborsClassifier(n_neighbors = k)\n",
    "        model.fit(data1, labels1)\n",
    "        model_predict = model.predict(data2)\n",
    "        f1 = metrics.f1_score( labels2, model_predict, average=\"weighted\")\n",
    "        print('WHEN k = ', k, ' THE f1 SCORE IS : ', np.round(f1, 4))"
   ]
  },
  {
   "cell_type": "code",
   "execution_count": 7,
   "metadata": {},
   "outputs": [],
   "source": [
    "#step 3 Produce several Naive Bayes models by varying smoothing (alpha), \n",
    "#including one with alpha set approximately to optimize f1 score. \n",
    "#For each model, show the alpha value and f1 score.\n",
    "\n",
    "def mnb(data1, labels1, data2, labels2):\n",
    "    alphas = [0.01, 0.09, 0.1, 0.12, 0.2]\n",
    "    for a in alphas:\n",
    "        model = MultinomialNB(alpha = a)\n",
    "        model.fit(data1, labels1)\n",
    "        model_predict = model.predict(data2)\n",
    "        f1 = metrics.f1_score( labels2, model_predict, average=\"weighted\")\n",
    "        print('FOR ALPHA = ', a, ' THE f1 SCORE : ', np.round(f1, 4))"
   ]
  },
  {
   "cell_type": "code",
   "execution_count": 8,
   "metadata": {},
   "outputs": [],
   "source": [
    "# step 4: Produce several Logistic Regression models by varying L2 regularization strength (C), \n",
    "#including one with C set approximately to optimize f1 score.\n",
    "#For each model, show the C value, f1 score, and sum of squared weights for each topic.\n",
    "\n",
    "def logit(data1, labels1, data2, labels2):\n",
    "    strength = [0.01, 0.1, 0.3, 0.5, 0.75]\n",
    "    for s in strength:\n",
    "        model = LogisticRegression(C= s, solver=\"liblinear\", multi_class=\"auto\")\n",
    "        model.fit(data1, labels1)\n",
    "        model_predict = model.predict(data2)\n",
    "        f1 = metrics.f1_score(labels2, model_predict, average = \"weighted\")\n",
    "        print('FOR C = ', s, ' THE f1 SCORE : ', np.round(f1,4))\n",
    "        print('& THE SUM OF SQUARED WEIGHTS : ', np.sum(model.coef_**2))\n"
   ]
  },
  {
   "cell_type": "code",
   "execution_count": 9,
   "metadata": {
    "colab": {},
    "colab_type": "code",
    "id": "VvhpODdWFsxp"
   },
   "outputs": [
    {
     "name": "stdout",
     "output_type": "stream",
     "text": [
      "K NEAREST NEIGHBORS MODELS\n",
      "WHEN k =  5  THE f1 SCORE IS :  0.4288\n",
      "WHEN k =  10  THE f1 SCORE IS :  0.4279\n",
      "WHEN k =  20  THE f1 SCORE IS :  0.4243\n",
      "WHEN k =  98  THE f1 SCORE IS :  0.4491\n",
      "WHEN k =  102  THE f1 SCORE IS :  0.4485\n",
      "WHEN k =  103  THE f1 SCORE IS :  0.4499\n",
      "For the K-Nearest Neighbors mode, the f1 score is optimized when k = 98 & the optimized f1 score = 0.4525\n",
      "\n",
      "MULTINOMIAL NAIVE BAYES MODELS\n",
      "FOR ALPHA =  0.01  THE f1 SCORE :  0.7752\n",
      "FOR ALPHA =  0.09  THE f1 SCORE :  0.79\n",
      "FOR ALPHA =  0.1  THE f1 SCORE :  0.7903\n",
      "FOR ALPHA =  0.12  THE f1 SCORE :  0.7885\n",
      "FOR ALPHA =  0.2  THE f1 SCORE :  0.7876\n",
      "For the Multinomial Naive Bayes model, the f1 score is optimized when alpha = 0.12 & the optimized f1 score = 0.7874\n",
      "\n",
      "LOGISTIC REGRESSION MODELS\n",
      "FOR C =  0.01  THE f1 SCORE :  0.6647\n",
      "& THE SUM OF SQUARED WEIGHTS :  10.593680011860615\n",
      "FOR C =  0.1  THE f1 SCORE :  0.6966\n",
      "& THE SUM OF SQUARED WEIGHTS :  102.28104455559837\n",
      "FOR C =  0.3  THE f1 SCORE :  0.7101\n",
      "& THE SUM OF SQUARED WEIGHTS :  254.8068558865046\n",
      "FOR C =  0.5  THE f1 SCORE :  0.7085\n",
      "& THE SUM OF SQUARED WEIGHTS :  373.6565299365672\n",
      "FOR C =  0.75  THE f1 SCORE :  0.6926\n",
      "& THE SUM OF SQUARED WEIGHTS :  496.73612336881354\n",
      "For the Logistic Regression model, the f1 score is optimized when C = 0.3 & the optimized f1 score = 0.696\n"
     ]
    }
   ],
   "source": [
    "#def P3():\n",
    "    ### STUDENT START ###\n",
    "    ### STUDENT END ###\n",
    "\n",
    "#P3()\n",
    "\n",
    "print('K NEAREST NEIGHBORS MODELS')\n",
    "knn(train_transform, train_labels, dev_transform, dev_labels)\n",
    "print('For the K-Nearest Neighbors mode, the f1 score is optimized when k = 98 & the optimized f1 score = 0.4525')\n",
    "print('')\n",
    "print('MULTINOMIAL NAIVE BAYES MODELS')\n",
    "mnb(train_transform, train_labels, dev_transform, dev_labels)\n",
    "print('For the Multinomial Naive Bayes model, the f1 score is optimized when alpha = 0.12 & the optimized f1 score = 0.7874')\n",
    "print('')\n",
    "print('LOGISTIC REGRESSION MODELS')\n",
    "logit(train_transform, train_labels, dev_transform, dev_labels)\n",
    "print('For the Logistic Regression model, the f1 score is optimized when C = 0.3 & the optimized f1 score = 0.696')\n",
    "\n"
   ]
  },
  {
   "cell_type": "markdown",
   "metadata": {
    "colab_type": "text",
    "id": "jWtXwAlOFsxr"
   },
   "source": [
    "ANSWER: \n",
    "\n",
    "Why doesn't k-Nearest Neighbors work well for this problem?\n",
    "Documents that should be classified differently will have many similar words. Each of these words hold the same weight  as features and this will cause many similar distances & much inaccuracy.\n",
    "Using k-Nearest Neighbors classification, we classify data based on the distances of other data points & their corresponding labels. When classifying documents to topics, CountVectorizer will create vectors only out of the data in our training set. These word unigram vectors become a set of features that is much smaller than the set of all features (there are basically an infinite number of words that could be used as features). Because of this our dimensions are much smaller and the classification accuracy will be much lower.\n",
    "\n",
    "Why doesn't Logistic Regression work as well as Naive Bayes does?\n",
    "Logistic Regression is a discriminative model and aims to find the decision boundary in the data while Naive Bayes is a generative model and aims to find the posterior probability that data belongs to a class. Because the features in the data would be expected to overlap quite a bit, finding a decision boundary is much more difficult as the features overlap- and the logistic regression model decreases the weights of features that are correlated with eachother.\n",
    "\n",
    "What is the relationship between logistic regression's sum of squared weights vs. C value?\n",
    "The C value represents the regularization strength of the logistic regression model. Changing the value of C will affect how feature weights are manipulated during the training step. C = 1/lambda- and low values of C will allow the model to increase in complexity leading to overfitting & higher values of C will keep the model from becoming too complex and can lead to underfitting. This happens because the C value tells the model how much weight to give its parameters- low values of C mean more weight given to parameters and more overfitting whereas high values of C mean less weight given to parameters and more underfitting. "
   ]
  },
  {
   "cell_type": "markdown",
   "metadata": {
    "colab_type": "text",
    "id": "dGEjsm_uFsxr"
   },
   "source": [
    "### Part 4:\n",
    "\n",
    "Transform the data to a matrix of word **bigram** feature vectors.  Produce a Logistic Regression model.  For each topic, find the 5 features with the largest weights (that's 20 features in total).  Show a 20 row (features) x 4 column (topics) table of the weights.\n",
    "\n",
    "Do you see any surprising features in this table?\n",
    "\n",
    "Notes:\n",
    "* Train on the transformed training data.\n",
    "* You can use `CountVectorizer` and its `.fit_transform` method to transform data.\n",
    "* You can use `LogisticRegression(C=0.5, solver=\"liblinear\", multi_class=\"auto\")` to produce a Logistic Regression model.\n",
    "* You can use `LogisticRegression`'s `.coef_` method to get weights for each topic.\n",
    "* You can use `np.argsort` to get indices sorted by element value. "
   ]
  },
  {
   "cell_type": "code",
   "execution_count": 10,
   "metadata": {},
   "outputs": [],
   "source": [
    "#function from part 3\n",
    "def transform_p3(data):\n",
    "    vect = CountVectorizer(ngram_range = (2,2))\n",
    "    vect_fit = vect.fit_transform(data)\n",
    "    vect_words = vect.get_feature_names()\n",
    "    return vect_fit , vect_words\n",
    "\n",
    "transform = transform_p3(train_data)\n",
    "train_transform = transform[0]\n",
    "train_transform_words = transform[1]"
   ]
  },
  {
   "cell_type": "code",
   "execution_count": 11,
   "metadata": {
    "colab": {},
    "colab_type": "code",
    "id": "WN51Nv4fFsxs"
   },
   "outputs": [
    {
     "data": {
      "image/png": "[encoded data removed]",
      "text/plain": [
       "<Figure size 432x288 with 1 Axes>"
      ]
     },
     "metadata": {
      "needs_background": "light"
     },
     "output_type": "display_data"
    }
   ],
   "source": [
    "def P4():\n",
    "    ### STUDENT START ###\n",
    "    model = LogisticRegression(C=0.5, solver=\"liblinear\", multi_class=\"auto\")\n",
    "    model.fit(train_transform, train_labels)\n",
    "    \n",
    "    weights_indices = np.argpartition(model.coef_, -5)[:,-5:]\n",
    "    features = []\n",
    "    for i in weights_indices:\n",
    "           for x in i:\n",
    "                features.append(train_transform_words[x])            \n",
    "    \n",
    "    topic_1 = np.round(np.take(model.coef_[0], weights_indices),4)\n",
    "    topic_2 = np.round(np.take(model.coef_[1], weights_indices),4)\n",
    "    topic_3 = np.round(np.take(model.coef_[2], weights_indices),4)\n",
    "    topic_4 = np.round(np.take(model.coef_[3], weights_indices),4)\n",
    "    \n",
    "    column_values = np.column_stack((topic_1, topic_2, topic_3, topic_4)).T\n",
    "    column_labels = [\"alt.atheism\", \"comp.graphics\", \"sci.space\", \"talk.religion.misc\"]\n",
    "    \n",
    "    table = plt.table(cellText = column_values, colLabels = column_labels, rowLabels = features)\n",
    "    table.scale(2,2)\n",
    "    plt.title('Largest Weights Table')\n",
    "    plt.axis('off')\n",
    "    plt.grid(False)\n",
    "    plt.show()\n",
    "    ### STUDENT END ###\n",
    "P4()"
   ]
  },
  {
   "cell_type": "markdown",
   "metadata": {
    "colab_type": "text",
    "id": "cY67F-tXFsxt"
   },
   "source": [
    "ANSWER: It is odd that some of the features are flipped versions of themselves (ie. \"are you\" and \"you are\")- but this can be expected because we are transforming data into word bigram feature vectors. I also think it is interesting that 'are you' and 'you are' are have the largest weights in the 'alt.atheism' topic. Something else I found surprising was the incidence of 'cheers kent' in the 'alt.atheism' and 'talk.religion.misc' categories because I think this is a random pair of words I wouldn't have guessed, but it leads me to believe that there could be some kind of error here or that documents classified as the atheist topic are also classified as the religion topic."
   ]
  },
  {
   "cell_type": "markdown",
   "metadata": {
    "colab_type": "text",
    "id": "rVWhSJHHFsxu"
   },
   "source": [
    "### Part 5:\n",
    "\n",
    "To improve generalization, it is common to try preprocessing text in various ways before splitting into words. For example, you could try transforming strings to lower case, replacing sequences of numbers with single tokens, removing various non-letter characters, and shortening long words.\n",
    "\n",
    "Produce a Logistic Regression model (with no preprocessing of text).  Evaluate and show its f1 score and size of the dictionary.\n",
    "\n",
    "Produce an improved Logistic Regression model by preprocessing the text.  Evaluate and show its f1 score and size of the vocabulary.  Try for an improvement in f1 score of at least 0.02.\n",
    "\n",
    "How much did the improved model reduce the vocabulary size?\n",
    "\n",
    "Notes:\n",
    "* Train on the transformed training data.\n",
    "* Evaluate on the transformed development data.\n",
    "* You can use `CountVectorizer(preprocessor=...)` to preprocess strings with your own custom-defined function.\n",
    "* `CountVectorizer` default is to preprocess strings to lower case.\n",
    "* You can use `LogisticRegression(C=0.5, solver=\"liblinear\", multi_class=\"auto\")` to produce a logistic regression model.\n",
    "* You can use `metrics.f1_score(..., average=\"weighted\")` to compute f1 score.\n",
    "* If you're not already familiar with regular expressions for manipulating strings, see https://docs.python.org/2/library/re.html, and re.sub() in particular."
   ]
  },
  {
   "cell_type": "code",
   "execution_count": 12,
   "metadata": {},
   "outputs": [],
   "source": [
    "from nltk.stem import *"
   ]
  },
  {
   "cell_type": "code",
   "execution_count": 161,
   "metadata": {},
   "outputs": [],
   "source": [
    "#transform the data into feature vectors without preprocessing\n",
    "#set lowercase to False because default is true\n",
    "#get train, dev, and vocab from this tranformation\n",
    "\n",
    "def no_preprocessing(data):\n",
    "    return data\n",
    "\n",
    "def transform(data1, data2):\n",
    "        vect = CountVectorizer(preprocessor = no_preprocessing)\n",
    "        vect_fit = vect.fit_transform(data1)\n",
    "        vect_words = vect.get_feature_names()\n",
    "        vect_trans = vect.transform(data2)\n",
    "        return [vect_fit, vect_trans, vect_words]\n",
    "\n",
    "train_transform = transform(train_data, dev_data)[0]\n",
    "dev_transform = transform(train_data, dev_data)[1]\n",
    "vocab = transform(train_data, dev_data)[2]"
   ]
  },
  {
   "cell_type": "code",
   "execution_count": 200,
   "metadata": {},
   "outputs": [],
   "source": [
    "# make a function to preprocess the data - change nonletter/nondigit characters\n",
    "# sub digit characters\n",
    "\n",
    "def better_preprocessor(data):\n",
    "    ### STUDENT START ###\n",
    "    #Countvectorizor puts all letters in lowercase by default\n",
    "    #data = data.lower()\n",
    "    \n",
    "    # sub hyphens with no space\n",
    "    data = re.sub(\"\\-\", '', data)\n",
    "    \n",
    "    # sub non letter & non digit characters w/ a space\n",
    "    data = re.sub(\"[^A-Za-z0-9 \\\\n]\",\" \", data)\n",
    "    \n",
    "    # sub digit characters with '#' character\n",
    "    data = re.sub(\"[\\d]\", \"\\#\", data) \n",
    "    \n",
    "    # removing stop words\n",
    "    stop_words = ['and', 'but', 'the', 'just']\n",
    "    for word in stop_words:\n",
    "        data = data.replace(word, \"\")\n",
    "    \n",
    "    # stemming words\n",
    "    stem = PorterStemmer()\n",
    "    for word in data:\n",
    "        data = data.replace(word, stem.stem(word))\n",
    "        \n",
    "    # shorten long words of length 7 or more\n",
    "    data = re.sub('(\\w{7})\\w+', '\\\\1', data)\n",
    "    \n",
    "    return data\n",
    "\n",
    "    ### STUDENT END ###"
   ]
  },
  {
   "cell_type": "code",
   "execution_count": 201,
   "metadata": {},
   "outputs": [],
   "source": [
    "# transform data into feature vectors & apply the preprocessing step (better_preprocessor)\n",
    "# get train, dev, and vocab from this transformation\n",
    "\n",
    "def preprocess_transform(data1, data2):\n",
    "    vect = CountVectorizer( preprocessor = better_preprocessor)\n",
    "    vect_fit = vect.fit_transform(data1)\n",
    "    vect_words = vect.get_feature_names()\n",
    "    vect_trans = vect.transform(data2)\n",
    "    return [vect_fit, vect_trans, vect_words]\n",
    "\n",
    "pp_train_transform = preprocess_transform(train_data, dev_data)[0]\n",
    "pp_dev_transform = preprocess_transform(train_data, dev_data)[1]\n",
    "pp_vocab = preprocess_transform(train_data, dev_data)[2]"
   ]
  },
  {
   "cell_type": "code",
   "execution_count": 205,
   "metadata": {
    "colab": {},
    "colab_type": "code",
    "id": "l7gS3cGpFsxv"
   },
   "outputs": [
    {
     "name": "stdout",
     "output_type": "stream",
     "text": [
      "THE f1 SCORE OF THE DATA THAT IS NOT PREPROCESSED:  0.7069\n",
      "THE SIZE OF THE DICTIONARY IS:  33291\n",
      "THE f1 SCORE OF THE DATA THAT IS PREPROCESSED:  0.7275\n",
      "THE SIZE OF THE DICTIONARY IS:  26846\n",
      "& the improved model decreased the size of the vocabulary by 6445 words\n"
     ]
    }
   ],
   "source": [
    "def P5(data1, labels1, data2, labels2, vocabulary, manipulate):\n",
    "    ### STUDENT START ###\n",
    "    if manipulate == False:\n",
    "        model = LogisticRegression(C=0.5, solver=\"liblinear\", multi_class=\"auto\")\n",
    "        model.fit(data1, labels1)\n",
    "        model_predict = model.predict(data2)\n",
    "        model_words = len(vocabulary)\n",
    "        f1_score = metrics.f1_score(labels2, model_predict, average = 'weighted')\n",
    "        print('THE f1 SCORE OF THE DATA THAT IS NOT PREPROCESSED: ', np.round(f1_score, 4) )\n",
    "        print('THE SIZE OF THE DICTIONARY IS: ', model_words)\n",
    "    else:\n",
    "        model = LogisticRegression(C=0.5, solver=\"liblinear\", max_iter = 100, multi_class=\"auto\")\n",
    "        model.fit(data1, labels1)\n",
    "        model_predict = model.predict(data2)\n",
    "        model_words = len(vocabulary)\n",
    "        f1_score = metrics.f1_score(labels2, model_predict, average = 'weighted')\n",
    "        print('THE f1 SCORE OF THE DATA THAT IS PREPROCESSED: ', np.round(f1_score, 4) )\n",
    "        print('THE SIZE OF THE DICTIONARY IS: ', model_words)\n",
    "    ### STUDENT END ###\n",
    "\n",
    "P5_unprocessed = P5(train_transform, train_labels, dev_transform, dev_labels, vocab, manipulate = False)\n",
    "P5_processed = P5(pp_train_transform, train_labels, pp_dev_transform, dev_labels, pp_vocab, manipulate = True)\n",
    "P5_unprocessed , P5_processed\n",
    "print(\"& the improved model decreased the size of the vocabulary by\", 33291 - 26846 , \"words\")"
   ]
  },
  {
   "cell_type": "markdown",
   "metadata": {
    "colab_type": "text",
    "id": "Uy-WITbNFsxw"
   },
   "source": [
    "### Part 6:\n",
    "\n",
    "The idea of regularization is to avoid learning very large weights (which are likely to fit the training data, but not generalize well) by adding a penalty to the total size of the learned weights. Logistic regression seeks the set of weights that minimizes errors in the training data AND has a small total size. The default L2 regularization computes this size as the sum of the squared weights (as in Part 3 above). L1 regularization computes this size as the sum of the absolute values of the weights. Whereas L2 regularization makes all the weights relatively small, L1 regularization drives many of the weights to 0, effectively removing unimportant features.\n",
    "\n",
    "For several L1 regularization strengths ...<br/>\n",
    "* Produce a Logistic Regression model using the **L1** regularization strength.  Reduce the vocabulary to only those features that have at least one non-zero weight among the four categories.  Produce a new Logistic Regression model using the reduced vocabulary and **L2** regularization strength of 0.5.  Evaluate and show the L1 regularization strength, vocabulary size, and f1 score associated with the new model.\n",
    "\n",
    "Show a plot of f1 score vs. log vocabulary size.  Each point corresponds to a specific L1 regularization strength used to reduce the vocabulary.\n",
    "\n",
    "How does performance of the models based on reduced vocabularies compare to that of a model based on the full vocabulary?\n",
    "\n",
    "Notes:\n",
    "* Train on the transformed training data.\n",
    "* Evaluate on the transformed development data.\n",
    "* You can use `LogisticRegression(..., penalty=\"l1\")` to produce a logistic regression model using L1 regularization.\n",
    "* You can use `LogisticRegression(..., penalty=\"l2\")` to produce a logistic regression model using L2 regularization.\n",
    "* You can use `LogisticRegression(..., tol=0.015)` to produce a logistic regression model using relaxed gradient descent convergence criteria.  The gradient descent code that trains the logistic regression model sometimes has trouble converging with extreme settings of the C parameter. Relax the convergence criteria by setting tol=.015 (the default is .0001)."
   ]
  },
  {
   "cell_type": "code",
   "execution_count": 77,
   "metadata": {},
   "outputs": [],
   "source": [
    "def transform6(data1, data2):\n",
    "        vect = CountVectorizer()\n",
    "        vect_fit = vect.fit_transform(data1)\n",
    "        vect_words = vect.get_feature_names()\n",
    "        vect_trans = vect.transform(data2)\n",
    "        return [vect_fit, vect_trans, vect_words]\n",
    "\n",
    "train_transform = transform6(train_data, dev_data)[0]\n",
    "dev_transform = transform6(train_data, dev_data)[1]\n",
    "vocab = transform6(train_data, dev_data)[2]"
   ]
  },
  {
   "cell_type": "code",
   "execution_count": 81,
   "metadata": {
    "colab": {},
    "colab_type": "code",
    "id": "l6ho31SrFsxx"
   },
   "outputs": [
    {
     "name": "stdout",
     "output_type": "stream",
     "text": [
      "Model with full vocab\n",
      "THE f1 SCORE=  0.6991 , & THE VOCAB SIZE=  26879\n",
      "L1 models:\n",
      "FOR REGULARIZATION STRENGTH=  0.3 , THE f1 SCORE=  0.6978 , & THE VOCAB SIZE=  520\n",
      "L1 models:\n",
      "FOR REGULARIZATION STRENGTH=  0.5 , THE f1 SCORE=  0.6879 , & THE VOCAB SIZE=  763\n",
      "L1 models:\n",
      "FOR REGULARIZATION STRENGTH=  0.7 , THE f1 SCORE=  0.7001 , & THE VOCAB SIZE=  920\n",
      "L1 models:\n",
      "FOR REGULARIZATION STRENGTH=  0.9 , THE f1 SCORE=  0.6907 , & THE VOCAB SIZE=  1103\n",
      "L1 models:\n",
      "FOR REGULARIZATION STRENGTH=  1 , THE f1 SCORE=  0.6831 , & THE VOCAB SIZE=  1135\n",
      "\n",
      "\n",
      "L2 models:\n",
      "FOR REGULARIZATION STRENGTH=  0.5 , THE f1 SCORE=  0.6646\n",
      "\n",
      "\n"
     ]
    },
    {
     "data": {
      "image/png": "[encoded data removed]",
      "text/plain": [
       "<Figure size 720x720 with 1 Axes>"
      ]
     },
     "metadata": {
      "needs_background": "light"
     },
     "output_type": "display_data"
    }
   ],
   "source": [
    "def P6():\n",
    "    # use the transformation function from part 5- train_transform, dev_transform, vocab\n",
    "    # Keep this random seed here to make comparison easier.\n",
    "    #np.random.seed(0)\n",
    "    \n",
    "    ### STUDENT START ###\n",
    "    # model with full vocabulary\n",
    "    model0 = LogisticRegression(penalty=\"l1\", tol=0.015, solver = 'liblinear', max_iter = 500)\n",
    "    model0.fit(train_transform, train_labels)\n",
    "    model0_predict = model0.predict(dev_transform)\n",
    "    f1_score0 = metrics.f1_score(dev_labels, model0_predict, average = 'weighted')\n",
    "    print('Model with full vocab')\n",
    "    print('THE f1 SCORE= ', np.round(f1_score0,4), ', & THE VOCAB SIZE= ', len(vocab))\n",
    "\n",
    "\n",
    "    #model 1\n",
    "    strengths = [0.3, 0.5, 0.7, 0.9, 1]\n",
    "    vocab_for_plot = []\n",
    "    scores = []\n",
    "    for x in strengths:\n",
    "        model1 = LogisticRegression(penalty=\"l1\", tol=0.015, C=x, solver = 'liblinear', max_iter = 500)\n",
    "        model1.fit(train_transform, train_labels)\n",
    "        model1_predict = model1.predict(dev_transform)\n",
    "        f1_score = metrics.f1_score(dev_labels, model1_predict, average = 'weighted')\n",
    "        scores.append(f1_score)\n",
    "    #np.apply_along_axis(np.count_nonzero, 1, model1.coef_)\n",
    "        nonzero = (model1.coef_ != 0)\n",
    "        keeping = nonzero.any(axis = 0)\n",
    "        fix_train = train_transform[:, keeping]\n",
    "        vocab_size = fix_train.shape[1]\n",
    "        fix_dev = dev_transform[:, keeping]\n",
    "        vocab_for_plot.append(np.log(vocab_size))\n",
    "        print('L1 models:')\n",
    "        print('FOR REGULARIZATION STRENGTH= ', x, ', THE f1 SCORE= ', np.round(f1_score,4), ', & THE VOCAB SIZE= ', vocab_size)\n",
    "    \n",
    "    #model 2\n",
    "    model2 = LogisticRegression(penalty = 'l2', tol=0.015, C= 0.5, max_iter = 500)\n",
    "    model2.fit(fix_train, train_labels)\n",
    "    model2_predict = model2.predict(fix_dev)\n",
    "    f1_score2 = metrics.f1_score(dev_labels, model2_predict, average = 'weighted')\n",
    "    print('\\n')\n",
    "    print('L2 models:')\n",
    "    print('FOR REGULARIZATION STRENGTH= ', 0.5, ', THE f1 SCORE= ', np.round(f1_score2,4))\n",
    "    print('\\n')\n",
    "\n",
    "    plt.figure(figsize = (10,10))\n",
    "    plt.plot(scores, vocab_for_plot)\n",
    "    plt.xlabel('f1 score')\n",
    "    plt.ylabel('Log of Vocab Size')\n",
    "    plt.title('Plot of f1 Scores vs Log of Vocab Size')\n",
    "    plt.show()\n",
    "    \n",
    "    ### STUDENT END ###\n",
    "\n",
    "P6()"
   ]
  },
  {
   "cell_type": "markdown",
   "metadata": {
    "colab_type": "text",
    "id": "bZmIPwExFsx1"
   },
   "source": [
    "ANSWER: How does performance of the models based on reduced vocabularies compare to that of a model based on the full vocabulary?\n",
    "\n",
    "It seems that as the vocabularly increases, the f1 score increases as well - meaning that the performance improves. However, after the regularization hits 0.7, the f1 score and performance begin to change direction and get worse. When we use 'full vocabulary', the f1 score is 0.6991- we see that when the vocab size decreases when the regularization is set to 0.7, there is a slight improvement in the f1 score. \n",
    "\n"
   ]
  },
  {
   "cell_type": "markdown",
   "metadata": {
    "colab_type": "text",
    "id": "QmrHf8AMFsxz"
   },
   "source": [
    "### Part 7:\n",
    "\n",
    "How is `TfidfVectorizer` different than `CountVectorizer`?\n",
    "\n",
    "Produce a Logistic Regression model based on data represented in tf-idf form, with L2 regularization strength of 100.  Evaluate and show the f1 score.  How is `TfidfVectorizer` different than `CountVectorizer`?\n",
    "\n",
    "Show the 3 documents with highest R ratio, where ...<br/>\n",
    "$R\\,ratio = maximum\\,predicted\\,probability \\div predicted\\,probability\\,of\\,correct\\,label$\n",
    "\n",
    "Explain what the R ratio describes.  What kinds of mistakes is the model making? Suggest a way to address one particular issue that you see.\n",
    "\n",
    "Note:\n",
    "* Train on the transformed training data.\n",
    "* Evaluate on the transformed development data.\n",
    "* You can use `TfidfVectorizer` and its `.fit_transform` method to transform data to tf-idf form.\n",
    "* You can use `LogisticRegression(C=100, solver=\"liblinear\", multi_class=\"auto\")` to produce a logistic regression model.\n",
    "* You can use `LogisticRegression`'s `.predict_proba` method to access predicted probabilities."
   ]
  },
  {
   "cell_type": "code",
   "execution_count": 82,
   "metadata": {},
   "outputs": [],
   "source": [
    "def tvect(data1, data2):\n",
    "    vect = TfidfVectorizer()\n",
    "    vect1 = vect.fit_transform(data1)\n",
    "    vect2 = vect.transform(data2)\n",
    "    return [vect1, vect2]\n",
    "\n",
    "tvect_train = tvect(train_data, dev_data)[0]\n",
    "tvect_dev = tvect(train_data, dev_data)[1]"
   ]
  },
  {
   "cell_type": "code",
   "execution_count": 90,
   "metadata": {},
   "outputs": [
    {
     "name": "stdout",
     "output_type": "stream",
     "text": [
      "USING COUNTVECTORIZER\n",
      "THE f1 SCORE OF THIS MODEL:  0.6964469383388671\n",
      "\n",
      "\n",
      "USING TFIDFVECTORIZER\n",
      "THE f1 SCORE OF THIS MODEL:  0.7585494343942512\n",
      "\n",
      "\n",
      "NUMBER 1 : DOCUMENT WITH THE HIGHEST R RATIO\n",
      "PREDICTED LABEL: talk.religion.misc\n",
      "TRUE LABEL: sci.space\n",
      "I am pleased to announce that a *revised version* of _The Easy-to-Read Book\n",
      "of Mormon_ (former title: _Mormon's Book_) by Lynn Matthews Anderson is now\n",
      "available through anonymous ftp (see information below). In addition to the\n",
      "change in title, the revised ETR BOM has been shortened by several pages\n",
      "(eliminating many extraneous \"that's\" and \"of's\"), and many (minor) errors\n",
      "have been corrected. This release includes a simplified Joseph Smith Story,\n",
      "testimonies of the three and eight witnesses, and a \"Words-to-Know\"\n",
      "glossary.\n",
      "\n",
      "As with the previous announcement, readers are reminded that this is a\n",
      "not-for-profit endeavor. This is a copyrighted work, but people are welcome\n",
      "to make *verbatim* copies for personal use. People can recuperate the\n",
      "actual costs of printing (paper, copy center charges), but may not charge\n",
      "anything for their time in making copies, or in any way realize a profit\n",
      "from the use of this book. See the permissions notice in the book itself\n",
      "for the precise terms.\n",
      "\n",
      "Negotiations are currently underway with a Mormon publisher vis-a-vis the\n",
      "printing and distribution of bound books. (Sorry, I'm out of the wire-bound\n",
      "\"first editions.\") I will make another announcement about the availability\n",
      "of printed copies once everything has been worked out.\n",
      "\n",
      "FTP information: connect via anonymous ftp to carnot.itc.cmu.edu, then \"cd\n",
      "pub\" (you won't see anything at all until you do).\n",
      "\n",
      "\"The Easy-to-Read Book of Mormon\" is currently available in postscript and\n",
      "RTF (rich text format). (ASCII, LaTeX, and other versions can be made\n",
      "available; contact dba@andrew.cmu.edu for details.) You should be able to\n",
      "print the postscript file on any postscript printer (such as an Apple\n",
      "Laserwriter); let dba know if you have any difficulties. (The postscript in\n",
      "the last release had problems on some printers; this time it should work\n",
      "better.) RTF is a standard document interchange format that can be read in\n",
      "by a number of word processors, including Microsoft Word for both the\n",
      "Macintosh and Windows. If you don't have a postscript printer, you may be\n",
      "able to use the RTF file to print out a copy of the book.\n",
      "\n",
      "-r--r--r--  1 dba                   1984742 Apr 27 13:12 etrbom.ps\n",
      "-r--r--r--  1 dba                   1209071 Apr 27 13:13 etrbom.rtf\n",
      "\n",
      "For more information about how this project came about, please refer to my\n",
      "article in the current issue of _Sunstone_, entitled \"Delighting in\n",
      "Plainness: Issues Surrounding a Simple Modern English Book of Mormon.\"\n",
      "\n",
      "Send all inquiries and comments to:\n",
      "\n",
      "    Lynn Matthews Anderson\n",
      "    5806 Hampton Street\n",
      "    Pittsburgh, PA 15206\n",
      "\n",
      "\n",
      "\n",
      "\n",
      "NUMBER 2 : DOCUMENT WITH THE HIGHEST R RATIO\n",
      "PREDICTED LABEL: sci.space\n",
      "TRUE LABEL: alt.atheism\n",
      "\n",
      "The 24 children were, of course, killed by a lone gunman in a second story\n",
      "window, who fired eight bullets in the space of two seconds...\n",
      "\n",
      "\n",
      "\n",
      "\n",
      "\n",
      "NUMBER 3 : DOCUMENT WITH THE HIGHEST R RATIO\n",
      "PREDICTED LABEL: talk.religion.misc\n",
      "TRUE LABEL: sci.space\n",
      "Can anyone provide me a ftp site where I can obtain a online version\n",
      "of the Book of Mormon. Please email the internet address if possible.\n",
      "\n",
      "\n"
     ]
    }
   ],
   "source": [
    "def P7(data1, data2, vectorizer, show_Rratio_docs):\n",
    "    ### STUDENT START ###\n",
    "    if vectorizer == 'Tfidf':\n",
    "        modelv = LogisticRegression(penalty = 'l2', tol=0.015, C=100, solver=\"liblinear\", multi_class=\"auto\")\n",
    "        modelv.fit(data1, train_labels)\n",
    "        model_predictv = modelv.predict(data2)\n",
    "        f1_scorev = metrics.f1_score(dev_labels, model_predictv, average = 'weighted')\n",
    "        print('USING TFIDFVECTORIZER')\n",
    "        print('THE f1 SCORE OF THIS MODEL: ', f1_scorev)\n",
    "        \n",
    "        if show_Rratio_docs == True:\n",
    "            probs = modelv.predict_proba(data2)\n",
    "\n",
    "            R, difficult_docs, index_docs = [], [], []\n",
    "    \n",
    "            for i in range(probs.shape[0]):\n",
    "                R.append(max(probs[i]) / probs[i][dev_labels[i]])\n",
    "                most_diff = sorted(R, reverse=True)[:3]\n",
    "    \n",
    "            for i in range(len(most_diff)):\n",
    "                difficult_docs.append(dev_data[int(np.where(R == most_diff[i])[0])])\n",
    "                index_docs.append(int(np.where(R == most_diff[i])[0]))\n",
    "    \n",
    "            difficult_predict = model_predictv[index_docs]\n",
    "            difficult_correct = dev_labels[index_docs]        \n",
    "        \n",
    "            for document in range(len(difficult_docs)):\n",
    "                print('\\n')\n",
    "                print(\"NUMBER {} : DOCUMENT WITH THE HIGHEST R RATIO\".format(document + 1))\n",
    "                topics = ['alt.atheism', 'talk.religion.misc', 'comp.graphics', 'sci.space']\n",
    "                print(\"PREDICTED LABEL: {}\".format(topics[difficult_predict[document]]))\n",
    "                print(\"TRUE LABEL: {}\".format(topics[difficult_correct[document]]))\n",
    "                print(difficult_docs[document])\n",
    "                print(\"\\n\")\n",
    "                \n",
    "            \n",
    "    \n",
    "    else: \n",
    "        model = LogisticRegression(penalty = 'l2', tol=0.015, C=100, solver=\"liblinear\", multi_class=\"auto\")\n",
    "        model.fit(data1, train_labels)\n",
    "        model_predict = model.predict(data2)\n",
    "        f1_score = metrics.f1_score(dev_labels, model_predict, average = 'weighted')\n",
    "        print('USING COUNTVECTORIZER')\n",
    "        print('THE f1 SCORE OF THIS MODEL: ', f1_score)\n",
    "        \n",
    "    ### STUDENT END ###\n",
    "\n",
    "\n",
    "#data transformed by the CountVectorizer\n",
    "P7(train_transform, dev_transform, 'Count', False)  \n",
    "print('\\n')\n",
    "# data transformed by the TfidfVectorizer \n",
    "P7(tvect_train, tvect_dev, 'Tfidf', True)"
   ]
  },
  {
   "cell_type": "markdown",
   "metadata": {
    "colab_type": "text",
    "id": "bZmIPwExFsx1"
   },
   "source": [
    "ANSWER: How is TfidfVectorizer different than CountVectorizer?\n",
    "CountVectorizer counts word frequencies which can be problematic because it does not recognize more rare words (ie- 'we', 'the', 'and' might occur a lot and don't tell us much about the text where as 'religion' or 'space' can be more indicative of the document topic). In contrast, TfidVectorizer weights word counts based on how often the appear in the text, which can account for words that are more telling of the document's topic.\n",
    "\n",
    "Explain what the R ratio describes. What kinds of mistakes is the model making? Suggest a way to address one particular issue that you see. \n",
    "The R ratio describes which documents are the most difficult to classify. \n",
    "One issue seen in 2 of the 3 most difficult documents to classify, is that the model recognizes the word \"Mormon\" in these documents and classifies them as 'talk.religion.misc' instead of the correct label, 'sci.space'. The model makes the same mistake with other words as well- like recognizing 'space' and classifying the 2nd text as 'sci.space' when this is not the correct classification. We can assume that the model does this across the board due to the use of the TfidfVectorizer. Transforming text to word bigram vectors instead of unigram vectors might provide the model with more context to make more accurate classifications. "
   ]
  },
  {
   "cell_type": "markdown",
   "metadata": {
    "colab_type": "text",
    "id": "VmsDxtzoFsx1"
   },
   "source": [
    "### Part 8 EXTRA CREDIT:\n",
    "\n",
    "Produce a Logistic Regression model to implement your suggestion from Part 7."
   ]
  },
  {
   "cell_type": "code",
   "execution_count": 91,
   "metadata": {
    "colab": {},
    "colab_type": "code",
    "id": "ZMaqe8c5Fsx2"
   },
   "outputs": [
    {
     "name": "stdout",
     "output_type": "stream",
     "text": [
      "USING TFIDFVECTORIZER\n",
      "THE f1 SCORE OF THIS MODEL:  0.6887636810197436\n"
     ]
    }
   ],
   "source": [
    "def tvect_p8(data1, data2):\n",
    "    vect = TfidfVectorizer(ngram_range= (2,2))\n",
    "    vect1 = vect.fit_transform(data1)\n",
    "    vect2 = vect.transform(data2)\n",
    "    return [vect1, vect2]\n",
    "\n",
    "tvect_train_p8 = tvect_p8(train_data, dev_data)[0]\n",
    "tvect_dev_p8 = tvect_p8(train_data, dev_data)[1]\n",
    "\n",
    "P7(tvect_train_p8, tvect_dev_p8, 'Tfidf', False)"
   ]
  },
  {
   "cell_type": "markdown",
   "metadata": {},
   "source": [
    "Using bigram feature vectors does not improve the performance of the model."
   ]
  },
  {
   "cell_type": "code",
   "execution_count": null,
   "metadata": {},
   "outputs": [],
   "source": []
  }
 ],
 "metadata": {
  "colab": {
   "collapsed_sections": [],
   "name": "firstname_lastname_p2.ipynb",
   "private_outputs": true,
   "provenance": [
    {
     "file_id": "https://github.com/MIDS-W207/Master/blob/master/Projects/firstname_lastname_p2.ipynb",
     "timestamp": 1559779272103
    }
   ],
   "version": "0.3.2"
  },
  "kernelspec": {
   "display_name": "Python 3",
   "language": "python",
   "name": "python3"
  },
  "language_info": {
   "codemirror_mode": {
    "name": "ipython",
    "version": 3
   },
   "file_extension": ".py",
   "mimetype": "text/x-python",
   "name": "python",
   "nbconvert_exporter": "python",
   "pygments_lexer": "ipython3",
   "version": "3.8.3"
  },
  "toc": {
   "base_numbering": 1,
   "nav_menu": {},
   "number_sections": false,
   "sideBar": true,
   "skip_h1_title": true,
   "title_cell": "Table of Contents",
   "title_sidebar": "Contents",
   "toc_cell": false,
   "toc_position": {},
   "toc_section_display": true,
   "toc_window_display": false
  }
 },
 "nbformat": 4,
 "nbformat_minor": 1
}
